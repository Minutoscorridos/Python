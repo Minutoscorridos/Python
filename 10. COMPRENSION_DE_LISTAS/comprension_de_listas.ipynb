{
  "nbformat": 4,
  "nbformat_minor": 0,
  "metadata": {
    "colab": {
      "name": "comprension_de_listas.ipynb",
      "provenance": [],
      "authorship_tag": "ABX9TyPEZ8dFBzAYKjGiuhqcCDlU",
      "include_colab_link": true
    },
    "kernelspec": {
      "name": "python3",
      "display_name": "Python 3"
    },
    "language_info": {
      "name": "python"
    }
  },
  "cells": [
    {
      "cell_type": "markdown",
      "metadata": {
        "id": "view-in-github",
        "colab_type": "text"
      },
      "source": [
        "<a href=\"https://colab.research.google.com/github/escuelaDeCodigoMargaritaMaza/Python/blob/main/10.%20COMPRENSION_DE_LISTAS/comprension_de_listas.ipynb\" target=\"_parent\"><img src=\"https://colab.research.google.com/assets/colab-badge.svg\" alt=\"Open In Colab\"/></a>"
      ]
    },
    {
      "cell_type": "markdown",
      "source": [
        "La comprensión de listas, es una funcionalidad que nos permite crear listas avanzadas en una misma línea de código.\n",
        "\n",
        "Ejemplo 1\n",
        "\n",
        "Crear una lista con las letras de una palabra:"
      ],
      "metadata": {
        "id": "jUelDMaFZ8uM"
      }
    },
    {
      "cell_type": "code",
      "execution_count": null,
      "metadata": {
        "id": "hM7gzyjvZ7Qe"
      },
      "outputs": [],
      "source": [
        "lista = []\n",
        "for letra in 'casa':\n",
        "  lista.append(letra)\n",
        "print(lista)"
      ]
    },
    {
      "cell_type": "markdown",
      "source": [
        "Con comprensión de listas"
      ],
      "metadata": {
        "id": "SZoyum8vaBbx"
      }
    },
    {
      "cell_type": "code",
      "source": [
        "lista = [letra for letra in 'casa']\n",
        "print(lista)"
      ],
      "metadata": {
        "id": "KIRlkr68aDlu"
      },
      "execution_count": null,
      "outputs": []
    },
    {
      "cell_type": "markdown",
      "source": [
        "Ejemplo 2\n",
        "\n",
        "Crear una lista con las potencias de los primeros 10 números:"
      ],
      "metadata": {
        "id": "eVm2i3EJaHnB"
      }
    },
    {
      "cell_type": "code",
      "source": [
        "lista = []\n",
        "for numero in range(0,11):\n",
        "  lista.append(numero**2)\n",
        "print(lista)"
      ],
      "metadata": {
        "id": "98YA0POlaJa3"
      },
      "execution_count": null,
      "outputs": []
    },
    {
      "cell_type": "markdown",
      "source": [
        "Con comprensión de listas"
      ],
      "metadata": {
        "id": "t6tsV7staMh0"
      }
    },
    {
      "cell_type": "code",
      "source": [
        "lista = [numero**2 for numero in range(0,11)]\n",
        "\n",
        "print(lista)"
      ],
      "metadata": {
        "id": "aMwYtuxyaOp9"
      },
      "execution_count": null,
      "outputs": []
    }
  ]
}