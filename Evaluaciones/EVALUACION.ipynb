{
  "nbformat": 4,
  "nbformat_minor": 0,
  "metadata": {
    "colab": {
      "provenance": [],
      "authorship_tag": "ABX9TyPkVKHwcRxtXwPC0k9RWZo2",
      "include_colab_link": true
    },
    "kernelspec": {
      "name": "python3",
      "display_name": "Python 3"
    },
    "language_info": {
      "name": "python"
    }
  },
  "cells": [
    {
      "cell_type": "markdown",
      "metadata": {
        "id": "view-in-github",
        "colab_type": "text"
      },
      "source": [
        "<a href=\"https://colab.research.google.com/github/Minutoscorridos/Python/blob/main/Evaluaciones/EVALUACION.ipynb\" target=\"_parent\"><img src=\"https://colab.research.google.com/assets/colab-badge.svg\" alt=\"Open In Colab\"/></a>"
      ]
    },
    {
      "cell_type": "markdown",
      "source": [
        "Práctica 1.\n",
        "6 puntos\n",
        "\n",
        "1 Práctica 1: Conociendo Python.\n",
        "\n",
        "Objetivo: Identificar el nivel de comprensión de los conceptos mediante preguntas abiertas.\n",
        "\n",
        "Responder las siguientes preguntas:\n",
        "\n",
        "1.1 ¿Qué es python? (2 puntos)\n",
        "\n",
        "Es un lenguaje de programación,similar a Pearl pero con sintaxis limpia y código legible. Es interpretado o de script, con tipado dinámico y furte, multiplataforma y orientado a objetos.  \n",
        "\n",
        "1.2 ¿Es multiplataforma en que sistemas operativos funciona ? (2 puntos)\n",
        "\n",
        "El interprete de Python está disponoble en muchas plataformas: UNIX, Solaris, Linux, DOS, Windows, OS/2, Mac OS y otros. \n",
        "\n",
        "1.3 Ejercicio 1 (2 puntos) Escribir un programa que pregunte al usuario su nombre, y luego lo salude.     "
      ],
      "metadata": {
        "id": "Vye-QVT1em8Z"
      }
    },
    {
      "cell_type": "code",
      "source": [
        "#Saludo por nombre del usuario.\n",
        "nombre=input(\"Escribe tu nombre \")\n",
        "print(\"Hola \",nombre,\",buen día\")\n"
      ],
      "metadata": {
        "colab": {
          "base_uri": "https://localhost:8080/"
        },
        "id": "rD_lELdegD-z",
        "outputId": "b88e7286-6cc0-428f-fbb1-ae1aea0a3327"
      },
      "execution_count": 2,
      "outputs": [
        {
          "output_type": "stream",
          "name": "stdout",
          "text": [
            "Escribe tu nombreRebeca\n",
            "Hola  Rebeca buen día\n"
          ]
        }
      ]
    },
    {
      "cell_type": "markdown",
      "source": [],
      "metadata": {
        "id": "Qo60avdzehYk"
      }
    }
  ]
}