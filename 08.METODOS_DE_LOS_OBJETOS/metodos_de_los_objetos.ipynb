{
  "nbformat": 4,
  "nbformat_minor": 0,
  "metadata": {
    "colab": {
      "name": "metodos_de_los_objetos.ipynb",
      "provenance": [],
      "authorship_tag": "ABX9TyP/ttKlUK9uSXXmfDsGYswI",
      "include_colab_link": true
    },
    "kernelspec": {
      "name": "python3",
      "display_name": "Python 3"
    },
    "language_info": {
      "name": "python"
    }
  },
  "cells": [
    {
      "cell_type": "markdown",
      "metadata": {
        "id": "view-in-github",
        "colab_type": "text"
      },
      "source": [
        "<a href=\"https://colab.research.google.com/github/escuelaDeCodigoMargaritaMaza/Python/blob/main/08.METODOS_DE_LOS_OBJETOS/metodos_de_los_objetos.ipynb\" target=\"_parent\"><img src=\"https://colab.research.google.com/assets/colab-badge.svg\" alt=\"Open In Colab\"/></a>"
      ]
    },
    {
      "cell_type": "markdown",
      "source": [
        "# METODOS DE LOS OBJETOS\n",
        "\n",
        "## CADENAS\n",
        "\n",
        "### count(value) Devuelve el número de veces que se encuentra la busqueda en la cadena. Los parámetros opcionales start y end definen una subcadena en la que buscar."
      ],
      "metadata": {
        "id": "Cv719dm3ahe-"
      }
    },
    {
      "cell_type": "code",
      "execution_count": null,
      "metadata": {
        "id": "8YCPI19Zab5D"
      },
      "outputs": [],
      "source": [
        "  s = \"Hola mundo\"\n",
        "  s.count(\"Hola\")"
      ]
    },
    {
      "cell_type": "markdown",
      "source": [
        "### find(sub) Devuelve la posición en la que se encontró por primera vez sub en la cadena o -1 si no se encontró."
      ],
      "metadata": {
        "id": "J5uwZb2NbdpW"
      }
    },
    {
      "cell_type": "code",
      "source": [
        "cadenaDeTexto = \"Es peor cometer una injusticia que padecerla porque quien la comete se convierte en injusto y quien la padece no.\"\n",
        "cadenaDeTexto.find('quien')"
      ],
      "metadata": {
        "id": "dbz9kykObkHF"
      },
      "execution_count": null,
      "outputs": []
    },
    {
      "cell_type": "markdown",
      "source": [
        "### join(secuence) Devuelve una cadena resultante de concatenar las cadenas de la secuencia separadas por la cadena sobre la que se llama el método.\n"
      ],
      "metadata": {
        "id": "y-OjgRNAbsuu"
      }
    },
    {
      "cell_type": "code",
      "source": [
        "list1 = ['1','2','3','4']  \n",
        "s = \"-\"\n",
        "s = s.join(list1) \n",
        "print(s)"
      ],
      "metadata": {
        "id": "92yHxJSGb3oz"
      },
      "execution_count": null,
      "outputs": []
    },
    {
      "cell_type": "markdown",
      "source": [
        "### partition(sep) Busca el separador (sep) en la cadena y devuelve una tupla con la subcadena hasta dicho separador, el separador en si, y la subcadena del separador hasta el final de la cadena. Si no se encuentra el separador, la tupla contendrá la cadena en si y dos cadenas vacías."
      ],
      "metadata": {
        "id": "YVkEkPwAcQ4Y"
      }
    },
    {
      "cell_type": "code",
      "source": [
        "nombre = \"Juan Gónzalez Pérez\"\n",
        "nombre.partition(\"Gónzalez\")"
      ],
      "metadata": {
        "id": "2GkC_IwWc5In"
      },
      "execution_count": null,
      "outputs": []
    },
    {
      "cell_type": "markdown",
      "source": [
        "### replace(old) Devuelve una cadena en la que se han reemplazado todas las ocurrencias de la cadena old por la cadena new. Si se especifica el parámetro count, este indica el número máximo de ocurrencias a reemplazar."
      ],
      "metadata": {
        "id": "4MZmnXeGdmMf"
      }
    },
    {
      "cell_type": "code",
      "source": [
        "buscar = \"nombre \"\n",
        "reemplazar_por = \"Juan Pérez\" \n",
        "print(\"Estimado Sr. nombre :\".replace(buscar, reemplazar_por) )"
      ],
      "metadata": {
        "id": "jgPatmhHdtS5"
      },
      "execution_count": null,
      "outputs": []
    },
    {
      "cell_type": "code",
      "source": [
        " print(\"si puedes cambiar un dato si le especificas si hay limite :\".replace(\"si\", \"no\",2) )"
      ],
      "metadata": {
        "id": "hVrAGdgLfcC-"
      },
      "execution_count": null,
      "outputs": []
    },
    {
      "cell_type": "markdown",
      "source": [
        "### split() Devuelve una lista conteniendo las subcadenas en las que se divide nuestra cadena al dividirlas por el delimitador sep. En el caso de que no se especifique sep, se usan espacios. Si se especifica maxsplit, este indica el número máximo de particiones a realizar."
      ],
      "metadata": {
        "id": "0JKzG1Rsflmu"
      }
    },
    {
      "cell_type": "code",
      "source": [
        "cadena = 'Hola compañeros del taller'\n",
        "cadena.split()"
      ],
      "metadata": {
        "id": "EcYvIxryfyEU",
        "colab": {
          "base_uri": "https://localhost:8080/"
        },
        "outputId": "8f86644e-3a22-4f47-b509-55c2d7ba8011"
      },
      "execution_count": 2,
      "outputs": [
        {
          "output_type": "execute_result",
          "data": {
            "text/plain": [
              "['Hola']"
            ]
          },
          "metadata": {},
          "execution_count": 2
        }
      ]
    },
    {
      "cell_type": "code",
      "source": [
        "cadena = \"80Edad:1Edad:20Edad:12Edad:44\"\n",
        "separador = \"Edad:\"\n",
        "cadena.split(separador)"
      ],
      "metadata": {
        "id": "_Bl1SCZbgH3S",
        "outputId": "2e364bcc-bdf0-485e-ea4d-ea16a7b7acd5",
        "colab": {
          "base_uri": "https://localhost:8080/"
        }
      },
      "execution_count": null,
      "outputs": [
        {
          "output_type": "execute_result",
          "data": {
            "text/plain": [
              "['80', '1', '20', '12', '44']"
            ]
          },
          "metadata": {},
          "execution_count": 32
        }
      ]
    },
    {
      "cell_type": "code",
      "source": [
        "cadena = \"Hola mundo estamos explicando el funcionamiento de split en Python\"\n",
        "separador = \" \"\n",
        "cadena.split(separador, 2)"
      ],
      "metadata": {
        "id": "skdofjyEgSgq",
        "outputId": "f0d2cfa3-c912-40e9-ac0e-e27d4fc46326",
        "colab": {
          "base_uri": "https://localhost:8080/"
        }
      },
      "execution_count": null,
      "outputs": [
        {
          "output_type": "execute_result",
          "data": {
            "text/plain": [
              "['Hola', 'mundo', 'estamos explicando el funcionamiento de split en Python']"
            ]
          },
          "metadata": {},
          "execution_count": 34
        }
      ]
    },
    {
      "cell_type": "markdown",
      "source": [
        "## LISTAS\n",
        "\n",
        "### append(objet) Añade un objeto al final de la lista. El objeto puede ser cualquier tipo de dato en Python, como un objeto de lista, de diccionario o de clase."
      ],
      "metadata": {
        "id": "PFVJzOl_gnQr"
      }
    },
    {
      "cell_type": "code",
      "source": [
        "notas_musicales = [\"Do\", \"Re\", \"Mi\", \"Fa\", \"Sol\", \"La\"]\n",
        "notas_musicales.append(\"Si\")\n",
        "print(notas_musicales)"
      ],
      "metadata": {
        "id": "qsmhFbUWgxNZ"
      },
      "execution_count": null,
      "outputs": []
    },
    {
      "cell_type": "markdown",
      "source": [
        "### count(value) Devuelve el número de veces que se encontró un dato en la lista.\n",
        "\n"
      ],
      "metadata": {
        "id": "35CA6r2ahxIA"
      }
    },
    {
      "cell_type": "code",
      "source": [
        "aList = [123, 'xyz', 'zara', 'abc', 123]\n",
        "\n",
        "print(\"Veces que esta 123 en la lista : \", aList.count(123))\n",
        "print(\"Veces que esta zara en la lista : \", aList.count('zara'))"
      ],
      "metadata": {
        "id": "ImIpRBe8h4Xz"
      },
      "execution_count": null,
      "outputs": []
    },
    {
      "cell_type": "markdown",
      "source": [
        "### extend(iterable) Añade los elementos del iterable a la lista."
      ],
      "metadata": {
        "id": "i-4vMmJdiclS"
      }
    },
    {
      "cell_type": "code",
      "source": [
        "notas_musicales = [\"Do\", \"Re\", \"Mi\", \"Fa\", \"Sol\", \"La\"]\n",
        "notas_musicales.extend(\"Si\")\n",
        "print(notas_musicales)"
      ],
      "metadata": {
        "id": "yH6U2eReixU9"
      },
      "execution_count": null,
      "outputs": []
    },
    {
      "cell_type": "code",
      "source": [
        "lst = []\n",
        "word = 'Sample'\n",
        "lst.extend(word)\n",
        "print(lst)"
      ],
      "metadata": {
        "id": "RrvXDFHDVwrJ"
      },
      "execution_count": null,
      "outputs": []
    },
    {
      "cell_type": "markdown",
      "source": [
        "diferencia con append"
      ],
      "metadata": {
        "id": "9kO8tJgGjADA"
      }
    },
    {
      "cell_type": "code",
      "source": [
        "A = [1, 2]\n",
        "A.extend([3, 4])\n",
        "print(A)"
      ],
      "metadata": {
        "id": "QFGbMKiOijt7"
      },
      "execution_count": null,
      "outputs": []
    },
    {
      "cell_type": "code",
      "source": [
        "A = [1, 2]\n",
        "A.append([3, 4])\n",
        "print(A)"
      ],
      "metadata": {
        "id": "GrtHscKwjEAu"
      },
      "execution_count": null,
      "outputs": []
    },
    {
      "cell_type": "markdown",
      "source": [
        "### index(value) Devuelve la posición en la que se encontró la primera ocurrencia de value. Si se especifican, start y stop definen las posiciones de inicio y fin de una sublista en la que buscar."
      ],
      "metadata": {
        "id": "m0LekpgwjPnD"
      }
    },
    {
      "cell_type": "code",
      "source": [
        " versiones = [2.1, 2.5, 3.6, 4, 5, 6, 4]\n",
        " print(versiones.index(4))"
      ],
      "metadata": {
        "id": "Qs_B0VMpjWJZ"
      },
      "execution_count": null,
      "outputs": []
    },
    {
      "cell_type": "markdown",
      "source": [
        "### insert(index,objeto) Inserta el objeto object en una posición determinada."
      ],
      "metadata": {
        "id": "tWc-21ppjkxF"
      }
    },
    {
      "cell_type": "code",
      "source": [
        "nombres = [\"Alvaro\", \"Jacinto\", \"Miguel\", \"Edgardo\", \"David\"] \n",
        "nombres.insert(0, \"Ricardo\") \n",
        "print(nombres)"
      ],
      "metadata": {
        "id": "p1sUdsmGjy1V"
      },
      "execution_count": null,
      "outputs": []
    },
    {
      "cell_type": "markdown",
      "source": [
        "### pop(index) Devuelve el valor en la posición index y lo elimina de la lista. Si no se especifica la posición, se utiliza el último elemento de la lista."
      ],
      "metadata": {
        "id": "_A6gtZnPkII7"
      }
    },
    {
      "cell_type": "code",
      "source": [
        "ciudades = ['New York', 'Dallas', 'San Antonio', 'Houston', 'San Francisco']\n",
        "\n",
        "print ( \"Ciudad removida : \", ciudades.pop() )\n",
        "print ( \"La ciudad en el indice 2 es : \", ciudades.pop(2) )"
      ],
      "metadata": {
        "id": "kf7wWZNKkNdf"
      },
      "execution_count": null,
      "outputs": []
    },
    {
      "cell_type": "markdown",
      "source": [
        "### remove(value) Eliminar la primera ocurrencia de value en la lista, elimina el primer elemento de la lista, cuyo valor es igual al del argumento pasado. Cuando se utiliza este método, normalmente no se sabe o no le importa cuál es el índice del elemento que se va a eliminar."
      ],
      "metadata": {
        "id": "tAciJlfYkZLc"
      }
    },
    {
      "cell_type": "code",
      "source": [
        "names = ['Bob', 'Cindy', 'Noah']\n",
        "names.remove('Cindy')\n",
        "print(names)"
      ],
      "metadata": {
        "id": "qiqSPKO8keJ5"
      },
      "execution_count": null,
      "outputs": []
    },
    {
      "cell_type": "markdown",
      "source": [
        "### reverse() Invierte la lista. Esta función trabaja sobre la propia lista desde la que se invoca el método, no sobre una copia."
      ],
      "metadata": {
        "id": "hheCEPEBkzOV"
      }
    },
    {
      "cell_type": "code",
      "source": [
        "list=[\"cat\",\"dog\",\"bird\",\"insects\"]\n",
        "list.reverse()\n",
        "print(list)"
      ],
      "metadata": {
        "id": "tbAEVQtfk3au"
      },
      "execution_count": null,
      "outputs": []
    },
    {
      "cell_type": "markdown",
      "source": [
        "### sort() Ordena la lista. "
      ],
      "metadata": {
        "id": "uNWpeqZvlFW6"
      }
    },
    {
      "cell_type": "code",
      "source": [
        "mi_lista = [67, 2, 999, 1, 15]\n",
        "mi_lista.sort()\n",
        "print(mi_lista)"
      ],
      "metadata": {
        "id": "UvE0MQHJlKWw"
      },
      "execution_count": null,
      "outputs": []
    },
    {
      "cell_type": "markdown",
      "source": [
        "# DICCIONARIOS\n",
        "\n",
        "\n",
        "### get() Busca el valor de la clave k en el diccionario. Es equivalente a utilizar D[k] pero al utilizar este método podemos indicar un valor a devolver por defecto si no se encuentra la clave, mientras que con la sintaxis D[k], de no existir la clave se lanzaría una excepción."
      ],
      "metadata": {
        "id": "8xbyr39Dlf6q"
      }
    },
    {
      "cell_type": "code",
      "source": [
        "dic = {\"A\":1, \"B\":2} \n",
        "print(dic.get(\"A\")) \n",
        "print(dic.get(\"B\")) "
      ],
      "metadata": {
        "id": "yfE5jK-IlvFb"
      },
      "execution_count": null,
      "outputs": []
    },
    {
      "cell_type": "markdown",
      "source": [
        "### items() Devuelve una lista de tuplas con pares clave-valor. D.keys() Devuelve una lista de las claves del diccionario."
      ],
      "metadata": {
        "id": "pgaXTiqpl4J5"
      }
    },
    {
      "cell_type": "code",
      "source": [
        "colores = { \"amarillo\":\"yellow\", \"azul\":\"blue\", \"verde\":\"green\" }\n",
        "colores.items()"
      ],
      "metadata": {
        "id": "R_c4ggzyl8it",
        "outputId": "0c2a47e3-4385-469f-b9e6-408dde3f8f26",
        "colab": {
          "base_uri": "https://localhost:8080/"
        }
      },
      "execution_count": null,
      "outputs": [
        {
          "output_type": "execute_result",
          "data": {
            "text/plain": [
              "dict_items([('amarillo', 'yellow'), ('azul', 'blue'), ('verde', 'green')])"
            ]
          },
          "metadata": {},
          "execution_count": 73
        }
      ]
    },
    {
      "cell_type": "markdown",
      "source": [
        "### pop() Borra la clave k del diccionario y devuelve su valor. Si no se encuentra dicha clave se devuelve d si se especificó el parámetro o bien se lanza una excepción.D.values() Devuelve una lista de los valores del diccionario."
      ],
      "metadata": {
        "id": "cBvtuDlNqk6A"
      }
    },
    {
      "cell_type": "code",
      "source": [
        "colores = { \"amarillo\":\"yellow\", \"azul\":\"blue\", \"verde\":\"green\" }\n",
        "colores.pop(\"amarillo\")\n",
        "print(colores)"
      ],
      "metadata": {
        "id": "9yR5Miy1qqgd"
      },
      "execution_count": null,
      "outputs": []
    }
  ]
}