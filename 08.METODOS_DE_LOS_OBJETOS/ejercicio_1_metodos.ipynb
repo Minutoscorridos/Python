{
  "nbformat": 4,
  "nbformat_minor": 0,
  "metadata": {
    "colab": {
      "name": "ejercicio.ipynb",
      "provenance": [],
      "authorship_tag": "ABX9TyN98n4bBHyd/pES463/azVV",
      "include_colab_link": true
    },
    "kernelspec": {
      "name": "python3",
      "display_name": "Python 3"
    },
    "language_info": {
      "name": "python"
    }
  },
  "cells": [
    {
      "cell_type": "markdown",
      "metadata": {
        "id": "view-in-github",
        "colab_type": "text"
      },
      "source": [
        "<a href=\"https://colab.research.google.com/github/escuelaDeCodigoMargaritaMaza/Python/blob/main/08.METODOS_DE_LOS_OBJETOS/ejercicio.ipynb\" target=\"_parent\"><img src=\"https://colab.research.google.com/assets/colab-badge.svg\" alt=\"Open In Colab\"/></a>"
      ]
    },
    {
      "cell_type": "markdown",
      "source": [
        "# Ejercicio\n",
        "\n",
        "### Vamos a realizar el siguiente ejercicio: Tendremos una palabra almacenada en una variable, la cual descompondremos en caráteres en una lista, por input pediremos se ingrese una letra, recorreremos el arreglo para ver si esa letra esta en el arreglo, imprimiendo si la encuentra o si no la encuentra. Como práctica adicional trata de hacer más complejo el programa, dandole solo 5 oportunidades al usuario de adivinar, podriamos también imprimir el número de caracteres que tiene dicha palabra y también ir imprimiendo en el espacio correspondiente la letra ingresada. ejem _ _ _ p _ p _ "
      ],
      "metadata": {
        "id": "Lb4xccoNTO_q"
      }
    },
    {
      "cell_type": "code",
      "source": [
        ""
      ],
      "metadata": {
        "id": "DrIBCPRRd3Qv"
      },
      "execution_count": null,
      "outputs": []
    },
    {
      "cell_type": "markdown",
      "source": [
        "### Vamos a crear un programa que nos solicite diez números por consola, los almacene en una lista e imprima el segundo más grande y el último de la lista en valor, además de imprimir la lista en orden invertido, todo en la misma linea de impresión. Como complemento crea el código para que los datos ingresados no se repitan en la captura."
      ],
      "metadata": {
        "id": "0MQwfY5taHEo"
      }
    },
    {
      "cell_type": "code",
      "source": [
        ""
      ],
      "metadata": {
        "id": "sL8spmtSTNkT"
      },
      "execution_count": null,
      "outputs": []
    }
  ]
}
