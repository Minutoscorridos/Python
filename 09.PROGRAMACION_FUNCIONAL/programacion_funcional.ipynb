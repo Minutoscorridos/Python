{
  "nbformat": 4,
  "nbformat_minor": 0,
  "metadata": {
    "colab": {
      "name": "programacion_funcional.ipynb",
      "provenance": [],
      "authorship_tag": "ABX9TyMogYHqAME5dxhsckHcT/k7",
      "include_colab_link": true
    },
    "kernelspec": {
      "name": "python3",
      "display_name": "Python 3"
    },
    "language_info": {
      "name": "python"
    }
  },
  "cells": [
    {
      "cell_type": "markdown",
      "metadata": {
        "id": "view-in-github",
        "colab_type": "text"
      },
      "source": [
        "<a href=\"https://colab.research.google.com/github/escuelaDeCodigoMargaritaMaza/Python/blob/main/09.PROGRAMACION_FUNCIONAL/programacion_funcional.ipynb\" target=\"_parent\"><img src=\"https://colab.research.google.com/assets/colab-badge.svg\" alt=\"Open In Colab\"/></a>"
      ]
    },
    {
      "cell_type": "markdown",
      "source": [
        "# Programación Funcional\n",
        "\n",
        "La programación funcional es un paradigma en el que la programación se basa\n",
        "casi en su totalidad en funciones, entendiendo el concepto de función según su\n",
        "definición matemática, y no como los simples subprogramas de los lenguajes\n",
        "imperativos que hemos visto hasta ahora. En los lenguajes funcionales puros un\n",
        "programa consiste exclusivamente en la aplicación de distintas funciones a un\n",
        "valor de entrada para obtener un valor de salida. Python, sin ser un lenguaje\n",
        "puramente funcional incluye varias características tomadas de los lenguajes\n",
        "funcionales como son las funciones de orden superior o las funciones lambda\n",
        "(funciones anónimas).\n",
        "\n",
        "## Función de orden superior\n",
        "El concepto de funciones de orden superior se refiere al uso de funciones como\n",
        "si de un valor cualquiera se tratara, posibilitando el pasar funciones como\n",
        "parámetros de otras funciones o devolver funciones como valor de retorno.\n",
        "Es posible porque, como hemos insistido ya en varias ocasiones, en Python todo\n",
        "son objetos. Y las funciones no son una excepción. Veamos un pequeño\n",
        "ejemplo:"
      ],
      "metadata": {
        "id": "QA3UqcSpchhb"
      }
    },
    {
      "cell_type": "code",
      "execution_count": null,
      "metadata": {
        "id": "xdxVCd1qcg5m"
      },
      "outputs": [],
      "source": [
        "def saludar(opcion):\n",
        "  def saludar_es():\n",
        "    print('hola')\n",
        "  def saludar_en():\n",
        "    print('hi')\n",
        "  def saludar_fr():\n",
        "    print('salut')\n",
        "  funcion_saludar={'es':saludar_es,'en':saludar_en,'fr':saludar_fr}\n",
        "  return funcion_saludar[opcion]\n",
        "saludar('es')()"
      ]
    },
    {
      "cell_type": "markdown",
      "source": [
        " Como podemos observar lo primero que hacemos en nuestro pequeño programa\n",
        "es llamar a la función saludar con un parámetro “es”.\n",
        "\n",
        "En la función saludar se definen varias funciones: saludar_es, saludar_en y\n",
        "saludar_fr y a continuación se crea un diccionario que tiene como claves\n",
        "cadenas de texto que identifican a cada lenguaje, y como valores las funciones.\n",
        "El valor de retorno de la función es una de estas funciones.\n",
        "\n",
        "La función para devolver viene determinada por el valor del parámetro opcion que\n",
        "se pasó como argumento de saludar. Como el valor de retorno de saludar es\n",
        "una función.\n",
        "\n",
        "\n",
        "\n",
        "### Filter\n",
        "\n",
        "Tal como su nombre indica filter significa filtrar, a partir de una lista o iterador y una función condicional, es\n",
        "capaz de devolver una nueva colección con los elementos filtrados que cumplan\n",
        "la condición. Por ejemplo, supongamos que tenemos una lista de varios números\n",
        "y queremos filtrarla, quedándonos únicamente con los múltiplos de 5:"
      ],
      "metadata": {
        "id": "m4OcioFQdTSL"
      }
    },
    {
      "cell_type": "code",
      "source": [
        "def multiple(numero):\n",
        "  if numero % 5 == 0:\n",
        "    return True\n",
        "\n",
        "numeros = [2, 5, 10, 23, 50, 30, 33,35]\n",
        "\n",
        "filter(multiple, numeros)"
      ],
      "metadata": {
        "id": "ZECuNA9JdpmM"
      },
      "execution_count": null,
      "outputs": []
    },
    {
      "cell_type": "markdown",
      "source": [
        "Si ejecutamos el filtro obtenemos un objeto de tipo filtro, pero podemos\n",
        "transformarlo en una lista fácilmente haciendo un cast (conversión):"
      ],
      "metadata": {
        "id": "ByyfNSDRdzGy"
      }
    },
    {
      "cell_type": "code",
      "source": [
        "def multiple(numero):\n",
        "  if numero % 5 == 0:\n",
        "    return True\n",
        "\n",
        "numeros = [2, 5, 10, 23, 50, 30, 33,35]\n",
        "list(filter(multiple, numeros))"
      ],
      "metadata": {
        "id": "XHpmaGqKd2Zn"
      },
      "execution_count": null,
      "outputs": []
    },
    {
      "cell_type": "markdown",
      "source": [
        "### Map\n",
        "\n",
        "La sintaxis para la función map() es la siguiente:"
      ],
      "metadata": {
        "id": "3M1QArgIeWR7"
      }
    },
    {
      "cell_type": "code",
      "source": [
        "    map(function, iterable, [iterable 2, iterable 3, ...])"
      ],
      "metadata": {
        "id": "gAYtj_KIeZIj"
      },
      "execution_count": null,
      "outputs": []
    },
    {
      "cell_type": "markdown",
      "source": [
        "En vez de usar un bucle for, la función map() proporciona una forma de aplicar una función a cada elemento en un iterable. Por tanto, a menudo puede funcionar mejor, ya que solo aplica la función a un elemento cada vez en vez de realizar copias de los elementos a otro iterable. Esto es muy útil cuando se trabaja en programas que procesan grandes conjuntos de datos. map() puede además tomar múltiples iterables como argumentos para la función enviando un elemento desde cada iterable a la función cada vez.\n",
        "\n",
        "Esta función trabaja de una forma muy similar a filter(), con la diferencia que en lugar de aplicar una condición a un elemento de una lista o secuencia, aplica una función sobre todos los elementos y como resultado se devuelve un iterable de tipo map:"
      ],
      "metadata": {
        "id": "sqQQKkYRecVr"
      }
    },
    {
      "cell_type": "code",
      "source": [
        "def doble(numero):\n",
        "    return numero*2\n",
        "\n",
        "numeros = [2, 5, 10, 23, 50, 33]\n",
        "\n",
        "map(doble, numeros)"
      ],
      "metadata": {
        "id": "8vcN_hc2ee8L"
      },
      "execution_count": null,
      "outputs": []
    },
    {
      "cell_type": "markdown",
      "source": [
        "Al igual que con filter, ahi obtendremos un objeto de tipo map para conertirlo a lisa"
      ],
      "metadata": {
        "id": "YJt94_-Oej7v"
      }
    },
    {
      "cell_type": "code",
      "source": [
        "list(map(doble, numeros)) #para mostrarlo en lista "
      ],
      "metadata": {
        "id": "bDdOifTTem5N"
      },
      "execution_count": null,
      "outputs": []
    },
    {
      "cell_type": "markdown",
      "source": [
        "Utilizar la función incorporada map() para crear una función que retorne una lista con la longitud de cada palabra (separas por espacios) de una frase. La función recibe una cadena de texto y retornara una lista."
      ],
      "metadata": {
        "id": "i5o5t_iZeqEc"
      }
    },
    {
      "cell_type": "code",
      "source": [
        "frase= 'Hola Luis, como estas?'\n",
        "def longitud_palabras(frase): # Función\n",
        "    palabra_len = list(map(len, frase.split())) # Longitud de cada palabra\n",
        "    return palabra_len # Retornar resultado\n",
        "\n",
        "longitud_palabras(frase) # Prueba de la función"
      ],
      "metadata": {
        "id": "Zl8LBdSZevl8"
      },
      "execution_count": null,
      "outputs": []
    },
    {
      "cell_type": "markdown",
      "source": [
        "### Reduce\n",
        "\n",
        "Reduce es una función incorporada de Python, que toma como argumento un\n",
        "conjunto de valores (una lista, una tupla, o cualquier objeto iterable) y lo \"reduce\"\n",
        "a un único valor. Cómo se obtiene ese único valor a partir de la colección pasada\n",
        "como argumento dependerá de la función aplicada.\n",
        "Por ejemplo, el siguiente código reduce la lista [1, 2, 3, 4] al número 10 aplicando\n",
        "la función add(a, b), que retorna la suma de sus argumentos."
      ],
      "metadata": {
        "id": "b89x9w3We1Oj"
      }
    },
    {
      "cell_type": "code",
      "source": [
        "from functools import reduce   #traemos el módulo para poder utiliarla\n",
        "\n",
        "def add(x, y):\n",
        "    return x + y\n",
        "\n",
        "lista = [2, 4, 7, 3]\n",
        "print(reduce(add, lista))"
      ],
      "metadata": {
        "id": "FMfCWFUQe957"
      },
      "execution_count": null,
      "outputs": []
    },
    {
      "cell_type": "markdown",
      "source": [
        "Crear una función que tome una lista de dígitos y devuelva al número al que corresponden. Por ejemplo [1,2,3] corresponde a el numero ciento veintitrés (123). Utilizar la función reduce."
      ],
      "metadata": {
        "id": "1p68f2n_fJ3q"
      }
    },
    {
      "cell_type": "code",
      "source": [
        "from functools import reduce\n",
        "\n",
        "def digitos_a_numero(digitos):\n",
        "  return reduce(lambda x,y:x*10 + y,digitos)\n",
        "\n",
        "digitos_a_numero([4,3,9,2])"
      ],
      "metadata": {
        "id": "R_1VdX2ofMbY"
      },
      "execution_count": null,
      "outputs": []
    },
    {
      "cell_type": "markdown",
      "source": [
        "## Funciones lamba\n",
        "\n",
        "En Python, una función Lambda se refiere a una pequeña función anónima. Las\n",
        "llamamos “funciones anónimas” porque técnicamente carecen de nombre. Al\n",
        "contrario que una función normal, no la definimos con la palabra clave estándar\n",
        "def que utilizamos en Python. En su lugar, las funciones Lambda se definen\n",
        "como una línea que ejecuta una sola expresión. Este tipo de funciones pueden\n",
        "tomar cualquier número de argumentos, pero solo pueden tener una expresión.\n",
        "\n",
        "Todas las funciones Lambda en Python tienen exactamente la misma sintaxis.\n",
        "\n",
        "Aqui tenemos una función como las conocemos"
      ],
      "metadata": {
        "id": "S3aXLsGPfRLp"
      }
    },
    {
      "cell_type": "code",
      "source": [
        "def suma(x,y):\n",
        "  return(x + y)\n",
        "\n",
        "suma(5,7)"
      ],
      "metadata": {
        "id": "powXQu8lfTtA"
      },
      "execution_count": null,
      "outputs": []
    },
    {
      "cell_type": "markdown",
      "source": [
        "Aqui como lambda"
      ],
      "metadata": {
        "id": "8sUw0EfyfXRa"
      }
    },
    {
      "cell_type": "code",
      "source": [
        "lambda x,y : x+ y\n",
        "\n",
        "#Para poder utilizarla necesitamos guardarla en una variable\n",
        "suma = lambda x,y : x + y\n",
        "suma(5,7)"
      ],
      "metadata": {
        "id": "TZxnoLLUfZ0N"
      },
      "execution_count": null,
      "outputs": []
    }
  ]
}