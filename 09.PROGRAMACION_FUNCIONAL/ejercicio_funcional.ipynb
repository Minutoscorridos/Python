{
  "nbformat": 4,
  "nbformat_minor": 0,
  "metadata": {
    "colab": {
      "name": "ejercicio_funcional.ipynb",
      "provenance": [],
      "authorship_tag": "ABX9TyMSCoUD6BIsneeuwoSsaAgv",
      "include_colab_link": true
    },
    "kernelspec": {
      "name": "python3",
      "display_name": "Python 3"
    },
    "language_info": {
      "name": "python"
    }
  },
  "cells": [
    {
      "cell_type": "markdown",
      "metadata": {
        "id": "view-in-github",
        "colab_type": "text"
      },
      "source": [
        "<a href=\"https://colab.research.google.com/github/escuelaDeCodigoMargaritaMaza/Python/blob/main/09.PROGRAMACION_FUNCIONAL/ejercicio_funcional.ipynb\" target=\"_parent\"><img src=\"https://colab.research.google.com/assets/colab-badge.svg\" alt=\"Open In Colab\"/></a>"
      ]
    },
    {
      "cell_type": "markdown",
      "source": [
        "1 - Realiza un programa que solicite dos números y una operación (suma, resta, división y multiplicación) e imprima el resultado.\n",
        "\n",
        "Además deberá mostrar un menú con las siguientes opciones:\n",
        "\n",
        "Mostrar números\n",
        "\n",
        "Sumar\n",
        "\n",
        "Restar\n",
        "\n",
        "Dividir (considerar la división entre 0)\n",
        "\n",
        "multipicar\n",
        "\n",
        "cerrar calculadora"
      ],
      "metadata": {
        "id": "BAs9dwQpa1pU"
      }
    },
    {
      "cell_type": "code",
      "execution_count": null,
      "metadata": {
        "id": "2FvjGz3EagUQ"
      },
      "outputs": [],
      "source": [
        "#tu codigo aqui"
      ]
    }
  ]
}