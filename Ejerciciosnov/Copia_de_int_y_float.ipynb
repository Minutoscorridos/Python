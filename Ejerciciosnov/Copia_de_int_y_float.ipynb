{
  "nbformat": 4,
  "nbformat_minor": 0,
  "metadata": {
    "colab": {
      "provenance": [],
      "include_colab_link": true
    },
    "kernelspec": {
      "name": "python3",
      "display_name": "Python 3"
    },
    "language_info": {
      "name": "python"
    }
  },
  "cells": [
    {
      "cell_type": "markdown",
      "metadata": {
        "id": "view-in-github",
        "colab_type": "text"
      },
      "source": [
        "<a href=\"https://colab.research.google.com/github/Minutoscorridos/Python/blob/main/Ejerciciosnov/Copia_de_int_y_float.ipynb\" target=\"_parent\"><img src=\"https://colab.research.google.com/assets/colab-badge.svg\" alt=\"Open In Colab\"/></a>"
      ]
    },
    {
      "cell_type": "markdown",
      "source": [
        "# Para capturar información del usuario, utilice la función input()"
      ],
      "metadata": {
        "id": "aAzDhQXn7m_b"
      }
    },
    {
      "cell_type": "code",
      "execution_count": null,
      "metadata": {
        "id": "242f2CPa69TN",
        "outputId": "a8149a7f-c646-4d4f-91ce-156ac4ebf3c9",
        "colab": {
          "base_uri": "https://localhost:8080/"
        }
      },
      "outputs": [
        {
          "output_type": "stream",
          "name": "stdout",
          "text": [
            "Bienvenido al taller de Python en PILARES\n",
            "Introduce tú edad 67\n",
            "Bienvenido:  67\n"
          ]
        }
      ],
      "source": [
        "print(\"Bienvenido al taller de Python en PILARES\")\n",
        "name = int(input(\"Introduce tú edad \" ))\n",
        "\n",
        "print(\"Bienvenido: \" , name)"
      ]
    },
    {
      "cell_type": "markdown",
      "source": [
        "# Trabajar con números\n",
        "La función almacena un resultado como una cadena. Por lo tanto, es posible que el siguiente código no haga lo que desea que haga: input()\n",
        "\n"
      ],
      "metadata": {
        "id": "ZcNt0zNY7xEs"
      }
    },
    {
      "cell_type": "code",
      "source": [
        "print(\"Calculadora\")\n",
        "first_number = input(\"Primer número: \")\n",
        "second_number = input(\"Segundo número: \")\n",
        "print(first_number + second_number)"
      ],
      "metadata": {
        "id": "L1gvq4_7700Y",
        "outputId": "2f0bd67e-3175-4242-bfa7-ad5de40ed501",
        "colab": {
          "base_uri": "https://localhost:8080/"
        }
      },
      "execution_count": null,
      "outputs": [
        {
          "output_type": "stream",
          "name": "stdout",
          "text": [
            "Calculadora\n",
            "Primer número: 34\n",
            "Segundo número: 56\n",
            "3456\n"
          ]
        }
      ]
    },
    {
      "cell_type": "markdown",
      "source": [
        "Probablemente quieres que este programa te responda con la suma pero dará un número diferente. ¿qué salió mal?\n",
        "\n",
        "La explicación es que el programa toma ambos números como si fuesen 'cadenas de texto'. Para que el cálculo funcione correctamente, debe cambiar esas cadenas a números mediante la función int(). Modificando la última línea del programa a utilizar, puede resolver el problema:"
      ],
      "metadata": {
        "id": "QLW2llQR762d"
      }
    },
    {
      "cell_type": "code",
      "source": [
        "print(int(first_number) + int(second_number))"
      ],
      "metadata": {
        "id": "Bqz03njY7_i9",
        "outputId": "eda2effc-9772-4b54-b93d-504041021831",
        "colab": {
          "base_uri": "https://localhost:8080/"
        }
      },
      "execution_count": null,
      "outputs": [
        {
          "output_type": "stream",
          "name": "stdout",
          "text": [
            "90\n"
          ]
        }
      ]
    },
    {
      "cell_type": "markdown",
      "source": [
        "# EJERCICIO 1\n",
        "Construir un convertidor de unidades de centimetros a metros (el formato del resultado deberá ser: X cm son igual a X metros, según el usuarios ingrese la cantidad a convertir)."
      ],
      "metadata": {
        "id": "4qQAtf1n-mPx"
      }
    },
    {
      "cell_type": "code",
      "source": [
        "#Tu código aquí\n",
        "print(\"Quieres cinvertir cm a metros\")\n",
        "cant_cm=float(input(\"que cantidad es\"))\n",
        "print(\"cant_cm cm son igual a\",cant_cm/100, \"metros\" )"
      ],
      "metadata": {
        "id": "LfnRmfE3_SQa",
        "outputId": "511035a3-b961-4b68-cfc6-38cef7069972",
        "colab": {
          "base_uri": "https://localhost:8080/"
        }
      },
      "execution_count": null,
      "outputs": [
        {
          "output_type": "stream",
          "name": "stdout",
          "text": [
            "Quieres cinvertir cm a metros\n",
            "que cantidad es768\n",
            "cant_cm cm son igual a 7.68 metros\n"
          ]
        }
      ]
    },
    {
      "cell_type": "markdown",
      "source": [
        "# EJERCICIO 2\n",
        "Exploremos cómo podemos crear un programa que pueda calcular la distancia entre dos planetas EN KILOMETROS. Comenzaremos conociendo las distancias de planetas al sol: \n",
        "\n",
        "Planeta Y Distancia al sol\n",
        "\n",
        "Mercurio 57900000\n",
        "\n",
        "Venus 108200000\n",
        "\n",
        "Tierra 149600000\n",
        "\n",
        "Marte 227900000\n",
        "\n",
        "Júpiter 778600000\n",
        "\n",
        "Saturno 1433500000\n",
        "\n",
        "Urano 2872500000\n",
        "\n",
        "Neptuno 4495100000\n",
        "\n",
        "PASOS:\n",
        "\n",
        "a) Lee los valores\n",
        "\n",
        "Usando input, agrega el código para leer la distancia del sol para cada planeta, considerando 2 planetas.\n",
        "\n",
        "b)Convertir a número\n",
        "\n",
        "Debido a que input devuelve valores de cadena, necesitamos convertirlos en números. Para nuestro ejemplo, usaremos int\n",
        "\n",
        "c)Realizar el cálculo y convertir a valor absoluto\n",
        "\n",
        "Con los valores almacenados como números, ahora puedes agregar el código para realizar el cálculo, restando el primer planeta del segundo. Debido a que el segundo planeta podría ser un número mayor, usarás abs para convertirlo a un valor absoluto\n",
        "\n",
        "d)Prueba tu aplicación"
      ],
      "metadata": {
        "id": "fQKrIG5VE9PO"
      }
    },
    {
      "cell_type": "code",
      "source": [
        "#Tu código aquí\n",
        "print(\" la distancia entre planetas\")\n",
        "distancia1=int(input(\"ingresa la distancia del primer planeta\"))\n",
        "diatancia2=int(input(\"ingresa la dist del segundo\"))\n",
        "dist_entre_planetas=abs(distancia1-distancia2)\n",
        "print(\"la distancia es \", dist_entre_planetas)"
      ],
      "metadata": {
        "id": "qmqAFLG5FlvT",
        "outputId": "1f7e23ea-159c-4984-fbc3-4352f3971998",
        "colab": {
          "base_uri": "https://localhost:8080/",
          "height": 269
        }
      },
      "execution_count": null,
      "outputs": [
        {
          "name": "stdout",
          "output_type": "stream",
          "text": [
            " la distancia entre planetas\n",
            "ingresa la distancia del primer planeta108200000\n",
            "ingresa la dist del segundo227900000\n"
          ]
        },
        {
          "output_type": "error",
          "ename": "NameError",
          "evalue": "ignored",
          "traceback": [
            "\u001b[0;31m---------------------------------------------------------------------------\u001b[0m",
            "\u001b[0;31mNameError\u001b[0m                                 Traceback (most recent call last)",
            "\u001b[0;32m<ipython-input-13-b280ff18aa06>\u001b[0m in \u001b[0;36m<module>\u001b[0;34m\u001b[0m\n\u001b[1;32m      3\u001b[0m \u001b[0mdistancia1\u001b[0m\u001b[0;34m=\u001b[0m\u001b[0mint\u001b[0m\u001b[0;34m(\u001b[0m\u001b[0minput\u001b[0m\u001b[0;34m(\u001b[0m\u001b[0;34m\"ingresa la distancia del primer planeta\"\u001b[0m\u001b[0;34m)\u001b[0m\u001b[0;34m)\u001b[0m\u001b[0;34m\u001b[0m\u001b[0;34m\u001b[0m\u001b[0m\n\u001b[1;32m      4\u001b[0m \u001b[0mdiatancia2\u001b[0m\u001b[0;34m=\u001b[0m\u001b[0mint\u001b[0m\u001b[0;34m(\u001b[0m\u001b[0minput\u001b[0m\u001b[0;34m(\u001b[0m\u001b[0;34m\"ingresa la dist del segundo\"\u001b[0m\u001b[0;34m)\u001b[0m\u001b[0;34m)\u001b[0m\u001b[0;34m\u001b[0m\u001b[0;34m\u001b[0m\u001b[0m\n\u001b[0;32m----> 5\u001b[0;31m \u001b[0mdist_entre_planetas\u001b[0m\u001b[0;34m=\u001b[0m\u001b[0mabs\u001b[0m\u001b[0;34m(\u001b[0m\u001b[0mdistancia1\u001b[0m\u001b[0;34m-\u001b[0m\u001b[0mdistancia2\u001b[0m\u001b[0;34m)\u001b[0m\u001b[0;34m\u001b[0m\u001b[0;34m\u001b[0m\u001b[0m\n\u001b[0m\u001b[1;32m      6\u001b[0m \u001b[0mprint\u001b[0m\u001b[0;34m(\u001b[0m\u001b[0;34m\"la distancia es \"\u001b[0m\u001b[0;34m,\u001b[0m \u001b[0mdist_entre_planetas\u001b[0m\u001b[0;34m)\u001b[0m\u001b[0;34m\u001b[0m\u001b[0;34m\u001b[0m\u001b[0m\n",
            "\u001b[0;31mNameError\u001b[0m: name 'distancia2' is not defined"
          ]
        }
      ]
    },
    {
      "cell_type": "markdown",
      "source": [
        "# Soluciones propuestas"
      ],
      "metadata": {
        "id": "qcOp0oXTFrhJ"
      }
    },
    {
      "cell_type": "code",
      "source": [
        "numero1 = int(input('ingresa el numero de metros '))\n",
        "print('El total de centrimetros en ',numero1,\" metros es de \",numero1*100)"
      ],
      "metadata": {
        "id": "-rR1sZJUFvUp"
      },
      "execution_count": null,
      "outputs": []
    },
    {
      "cell_type": "code",
      "source": [
        "distancia1 = int(input('ingresa la distancia al sol del primer planeta'))\n",
        "distancia2 = int(input('ingresa la distancia al sol del segundo planeta'))\n",
        "distancia_entre_planetas = abs(distancia1-distancia2)\n",
        "print(distancia_entre_planetas)"
      ],
      "metadata": {
        "id": "Zz-AjsURGeMy"
      },
      "execution_count": null,
      "outputs": []
    }
  ]
}