{
  "nbformat": 4,
  "nbformat_minor": 0,
  "metadata": {
    "colab": {
      "provenance": [],
      "authorship_tag": "ABX9TyNMBJI0t+u5gVWxADIi+ozj",
      "include_colab_link": true
    },
    "kernelspec": {
      "name": "python3",
      "display_name": "Python 3"
    },
    "language_info": {
      "name": "python"
    }
  },
  "cells": [
    {
      "cell_type": "markdown",
      "metadata": {
        "id": "view-in-github",
        "colab_type": "text"
      },
      "source": [
        "<a href=\"https://colab.research.google.com/github/Minutoscorridos/Python/blob/main/Ejerc_clase/sentc_rel_domino.ipynb\" target=\"_parent\"><img src=\"https://colab.research.google.com/assets/colab-badge.svg\" alt=\"Open In Colab\"/></a>"
      ]
    },
    {
      "cell_type": "code",
      "execution_count": null,
      "metadata": {
        "id": "B2C-To7amepm"
      },
      "outputs": [],
      "source": []
    },
    {
      "cell_type": "markdown",
      "source": [
        "imprime todas las fichas de dominó ,sustituyendo los puntos po numeros"
      ],
      "metadata": {
        "id": "IUAAgen9mfMC"
      }
    },
    {
      "cell_type": "code",
      "source": [
        "for arriba in range(7):\n",
        "\n",
        "  for abajo in range(arriba,7):\n",
        "    print(\"[\", arriba, \"/\",abajo,\"]\")\n"
      ],
      "metadata": {
        "id": "n15BwcyVmrGq"
      },
      "execution_count": null,
      "outputs": []
    },
    {
      "cell_type": "code",
      "source": [
        "equipo=['Francia','Inglaterra','Marruecos','Brasil','Holanda','Argentina','Portugal','Croacia']\n",
        "for turno in range(7):\n",
        "    for contrario in range(turno,7):\n",
        "      print(equipo[turno],'/',equipo[contrario+1])\n",
        "   "
      ],
      "metadata": {
        "colab": {
          "base_uri": "https://localhost:8080/"
        },
        "id": "A59hOhoT3GEq",
        "outputId": "75aadf74-81ed-4ff1-b7ae-e855d4bb23b1"
      },
      "execution_count": null,
      "outputs": [
        {
          "output_type": "stream",
          "name": "stdout",
          "text": [
            "Francia / Inglaterra\n",
            "Francia / Marruecos\n",
            "Francia / Brasil\n",
            "Francia / Holanda\n",
            "Francia / Argentina\n",
            "Francia / Portugal\n",
            "Francia / Croacia\n",
            "Inglaterra / Marruecos\n",
            "Inglaterra / Brasil\n",
            "Inglaterra / Holanda\n",
            "Inglaterra / Argentina\n",
            "Inglaterra / Portugal\n",
            "Inglaterra / Croacia\n",
            "Marruecos / Brasil\n",
            "Marruecos / Holanda\n",
            "Marruecos / Argentina\n",
            "Marruecos / Portugal\n",
            "Marruecos / Croacia\n",
            "Brasil / Holanda\n",
            "Brasil / Argentina\n",
            "Brasil / Portugal\n",
            "Brasil / Croacia\n",
            "Holanda / Argentina\n",
            "Holanda / Portugal\n",
            "Holanda / Croacia\n",
            "Argentina / Portugal\n",
            "Argentina / Croacia\n",
            "Portugal / Croacia\n"
          ]
        }
      ]
    }
  ]
}