{
  "nbformat": 4,
  "nbformat_minor": 0,
  "metadata": {
    "colab": {
      "provenance": [],
      "authorship_tag": "ABX9TyOYOleMRLHpZU4bL6bUPuiM",
      "include_colab_link": true
    },
    "kernelspec": {
      "name": "python3",
      "display_name": "Python 3"
    },
    "language_info": {
      "name": "python"
    }
  },
  "cells": [
    {
      "cell_type": "markdown",
      "metadata": {
        "id": "view-in-github",
        "colab_type": "text"
      },
      "source": [
        "<a href=\"https://colab.research.google.com/github/Minutoscorridos/Python/blob/main/Ejerc_clase/Evaluacion1.ipynb\" target=\"_parent\"><img src=\"https://colab.research.google.com/assets/colab-badge.svg\" alt=\"Open In Colab\"/></a>"
      ]
    },
    {
      "cell_type": "markdown",
      "source": [
        "2 Práctica Números enteros y reales.\n",
        "Realiza los ejercicios de acuerdo a las indicaciones\n",
        "\n",
        "2.1 Ejercicio 1 (1.5 puntos)\n",
        "\n",
        "Escribir un programa que convierta un valor dado en grados Fahrenheit a grados Celsius."
      ],
      "metadata": {
        "id": "D-yLOVyqZcaW"
      }
    },
    {
      "cell_type": "code",
      "source": [
        "print(\"Se convierte grados Fahrenheith en Centígrados\")\n",
        "g_farenheith=float(input(\"inserta la cantidad a convertir \"))\n",
        "\n",
        "print(g_farenheith , \"F = \", (5*(g_farenheith-32)/9) ,\"C\")"
      ],
      "metadata": {
        "colab": {
          "base_uri": "https://localhost:8080/"
        },
        "id": "SadvwR4VZfcm",
        "outputId": "05d81540-d420-4a3d-9ccf-a8ab08d106e7"
      },
      "execution_count": 5,
      "outputs": [
        {
          "output_type": "stream",
          "name": "stdout",
          "text": [
            "Se convierte grados Fahrenheith en Centígrados\n",
            "inserta la cantidad a convertir 120\n",
            "120.0 F =  48.888888888888886 C\n"
          ]
        }
      ]
    }
  ]
}