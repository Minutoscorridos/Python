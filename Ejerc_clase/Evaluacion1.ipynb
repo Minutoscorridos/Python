{
  "nbformat": 4,
  "nbformat_minor": 0,
  "metadata": {
    "colab": {
      "provenance": [],
      "authorship_tag": "ABX9TyMS0mWcH1LhAU9ithNmtlou",
      "include_colab_link": true
    },
    "kernelspec": {
      "name": "python3",
      "display_name": "Python 3"
    },
    "language_info": {
      "name": "python"
    }
  },
  "cells": [
    {
      "cell_type": "markdown",
      "metadata": {
        "id": "view-in-github",
        "colab_type": "text"
      },
      "source": [
        "<a href=\"https://colab.research.google.com/github/Minutoscorridos/Python/blob/main/Ejerc_clase/Evaluacion1.ipynb\" target=\"_parent\"><img src=\"https://colab.research.google.com/assets/colab-badge.svg\" alt=\"Open In Colab\"/></a>"
      ]
    },
    {
      "cell_type": "markdown",
      "source": [
        "2 Práctica Números enteros y reales.\n",
        "Realiza los ejercicios de acuerdo a las indicaciones\n",
        "\n",
        "2.1 Ejercicio 1 (1.5 puntos)\n",
        "\n",
        "Escribir un programa que convierta un valor dado en grados Fahrenheit a grados Celsius."
      ],
      "metadata": {
        "id": "D-yLOVyqZcaW"
      }
    },
    {
      "cell_type": "code",
      "source": [
        "print(\"Se convirte grados Farenheith en Centígrados\")\n",
        "g_farenheith=float(input(\"inserta la cantidad a convertir\"))\n",
        "\n",
        "print(g_farenheith , \" F = \", (5*(g_farenheith-32)/9) ,\"C\")"
      ],
      "metadata": {
        "colab": {
          "base_uri": "https://localhost:8080/"
        },
        "id": "SadvwR4VZfcm",
        "outputId": "eebf4bfc-8906-4f8a-a6c1-4ed47363428f"
      },
      "execution_count": 7,
      "outputs": [
        {
          "output_type": "stream",
          "name": "stdout",
          "text": [
            "Se convirte grados Farenheith en Centígrados\n",
            "inserta la cantidad a convertir32\n",
            "32.0  F =  0.0 C\n"
          ]
        }
      ]
    }
  ]
}