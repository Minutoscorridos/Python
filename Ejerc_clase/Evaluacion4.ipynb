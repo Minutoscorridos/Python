{
  "nbformat": 4,
  "nbformat_minor": 0,
  "metadata": {
    "colab": {
      "provenance": [],
      "authorship_tag": "ABX9TyN8acB+OGRm0pXSNVCEHDHY",
      "include_colab_link": true
    },
    "kernelspec": {
      "name": "python3",
      "display_name": "Python 3"
    },
    "language_info": {
      "name": "python"
    }
  },
  "cells": [
    {
      "cell_type": "markdown",
      "metadata": {
        "id": "view-in-github",
        "colab_type": "text"
      },
      "source": [
        "<a href=\"https://colab.research.google.com/github/Minutoscorridos/Python/blob/main/Ejerc_clase/Evaluacion4.ipynb\" target=\"_parent\"><img src=\"https://colab.research.google.com/assets/colab-badge.svg\" alt=\"Open In Colab\"/></a>"
      ]
    },
    {
      "cell_type": "code",
      "execution_count": null,
      "metadata": {
        "id": "ECyF14cWHP_5"
      },
      "outputs": [],
      "source": []
    },
    {
      "cell_type": "markdown",
      "source": [
        "Imprime numero de veces"
      ],
      "metadata": {
        "id": "gWfo_y3jHRZL"
      }
    },
    {
      "cell_type": "code",
      "source": [
        "print(\"¿quieres imprimir tu nombre?\")\n",
        "nombre=input(\"inserta tu nombre \" )\n",
        "#nombre.title()\n",
        "veces=int(input(\"¿Cuantas veces quieres imprimir\"))\n",
        "\n",
        "print((nombre.title() + \"\\n\" )* veces )   "
      ],
      "metadata": {
        "colab": {
          "base_uri": "https://localhost:8080/"
        },
        "id": "qzn0Qh0WHVQi",
        "outputId": "5ee3055f-6866-4cbe-cac3-6862e4373d5f"
      },
      "execution_count": 2,
      "outputs": [
        {
          "output_type": "stream",
          "name": "stdout",
          "text": [
            "¿quieres imprimir tu nombre?\n",
            "inserta tu nombre tito\n",
            "¿Cuantas veces quieres imprimir2\n",
            "Tito\n",
            "Tito\n",
            "\n"
          ]
        }
      ]
    },
    {
      "cell_type": "code",
      "source": [
        "numeros=[4,6,0,2,3,7,5,9,1,8]\n",
        "print(numeros[0], \"cuadrado\", numeros[0]**2, \"cubo\", numeros[0]**3)\n",
        "print(numeros[1], \"Cuadrado\", numeros[1]**2, numeros[1]**3)\n",
        "print(numeros[2], \"cuadrado\",numeros[2]**2, numeros[2]**3)\n",
        "print(numeros[3], \"cuadrado\",numeros[3]**2, numeros[3]**3)\n",
        "print(numeros[4], \"cuadrado\",numeros[4]**2, numeros[4]**3)\n",
        "print(numeros[5], \"cuadrado\",numeros[5]**2, numeros[5]**3)\n",
        "print(numeros[6], \"cuadrado\",numeros[6]**2, numeros[6]**3)\n",
        "print(numeros[7], \"cuadrado\",numeros[7]**2, numeros[7]**3)\n",
        "print(numeros[8],\"cuadrado\", numeros[8]**2, numeros[8]**3)\n",
        "print(numeros[9],\"cuadrado\", numeros[9]**2, numeros[9]**3)\n",
        "\n",
        "\n",
        "\n"
      ],
      "metadata": {
        "id": "39SeqIBYsSBP"
      },
      "execution_count": null,
      "outputs": []
    },
    {
      "cell_type": "markdown",
      "source": [
        "4.2 Ejercicio 2 (1.2 puntos)\n",
        "Crea una lista e inicializarla con 5 cadenas de caracteres leídas por teclado. Copia los elementos de la lista en otra lista pero en orden inverso, y muestra sus elementos por la pantalla."
      ],
      "metadata": {
        "id": "nX7kdxZAxWdW"
      }
    },
    {
      "cell_type": "code",
      "source": [
        "\n",
        "palab=[]\n",
        "palabra=input(\"ingresa una palabra \")\n",
        "palab.append(palabra)\n",
        "palabra=input(\"Ingresa una palabra \")\n",
        "palab.append(palabra)\n",
        "palabra=input(\"Ingresa una palabra \")\n",
        "palab.append(palabra)\n",
        "palabra=input(\"Ingresa una palabra \")\n",
        "palab.append(palabra)\n",
        "palabra=input(\"Ingresa una palabra \")\n",
        "palab.append(palabra)\n",
        "print(palab)\n",
        "palab_dos=palab\n",
        "palab_dos.sort(reverse=True)\n",
        "print(palab_dos)\n"
      ],
      "metadata": {
        "colab": {
          "base_uri": "https://localhost:8080/"
        },
        "id": "Ii3u1ezZvCGG",
        "outputId": "34703ee8-c8d2-4b81-a75b-fc43733be4e5"
      },
      "execution_count": 14,
      "outputs": [
        {
          "output_type": "stream",
          "name": "stdout",
          "text": [
            "ingresa una palabra ojo\n",
            "Ingresa una palabra no\n",
            "Ingresa una palabra cabeza\n",
            "Ingresa una palabra pie\n",
            "Ingresa una palabra oreja\n",
            "['ojo', 'no', 'cabeza', 'pie', 'oreja']\n",
            "['pie', 'oreja', 'ojo', 'no', 'cabeza']\n"
          ]
        }
      ]
    },
    {
      "cell_type": "markdown",
      "source": [
        "4.3 Ejercicio 3 (1.2 puntos)\n",
        "Se quiere realizar un programa que lea por teclado las 5 notas obtenidas por un alumno (comprendidas entre 0 y 10). A continuación debe mostrar todas las notas, la nota media, la nota más alta que ha sacado y la menor."
      ],
      "metadata": {
        "id": "w3miUj4Y4chY"
      }
    },
    {
      "cell_type": "code",
      "source": [
        "notas=[]\n",
        "calif=input(\"ingresa una palabra \")\n",
        "notas.append(calif)\n",
        "calif=input(\"ingresa una palabra \")\n",
        "notas.append(calif)\n",
        "calif=input(\"ingresa una palabra \")\n",
        "notas.append(calif)\n",
        "calif=input(\"ingresa una palabra \")\n",
        "notas.append(calif)\n",
        "calif=input(\"ingresa una palabra \")\n",
        "notas.append(calif)\n",
        "numnotas=len(notas)\n",
        "print(f\"\"\"las calificaciones son: {notas}\n",
        "     el promedio es  {numnotas}\n",
        "    la calificacion maxima es {max(notas)}\n",
        "    la calificacion minima es {min(notas)}\"\"\")\n"
      ],
      "metadata": {
        "colab": {
          "base_uri": "https://localhost:8080/"
        },
        "id": "R9kv5rQp4eKA",
        "outputId": "c6d26e37-8278-4c9d-ea0d-fed7733baea4"
      },
      "execution_count": 19,
      "outputs": [
        {
          "output_type": "stream",
          "name": "stdout",
          "text": [
            "ingresa una palabra 8\n",
            "ingresa una palabra 9\n",
            "ingresa una palabra 8\n",
            "ingresa una palabra 5\n",
            "ingresa una palabra 9\n",
            "las calificaciones son: ['8', '9', '8', '5', '9']\n",
            "     el promedio es  5\n",
            "    la calificacion maxima es 9\n",
            "    la calificacion minima es 5\n"
          ]
        }
      ]
    },
    {
      "cell_type": "markdown",
      "source": [
        "4.4 Ejercicio 4 (1.2 puntos)\n",
        "Codifica un programa en python que nos permita guardar los nombres de los alumnos de una clase y las notas que han obtenido. Cada alumno puede tener distinta cantidad de notas. Guarda la información en un diccionario cuya claves serán los nombres de los alumnos y los valores serán listados con las notas de cada alumno.\n",
        "\n",
        "El programa pedirá el número de alumnos que vamos a introducir, pedirá su nombre e irá pidiendo sus notas hasta que introduzcamos un número negativo. Al final el programa nos mostrará la lista de alumnos y la nota media obtenida por cada uno de ellos. Nota: si se introduce el nombre de un alumno que ya existe el programa nos dará un error."
      ],
      "metadata": {
        "id": "FdRBujhM4e_3"
      }
    },
    {
      "cell_type": "code",
      "source": [],
      "metadata": {
        "id": "bN-AO3vM4zFu"
      },
      "execution_count": null,
      "outputs": []
    },
    {
      "cell_type": "markdown",
      "source": [
        "4.5 Ejercicio 5 (1.2 puntos)\n",
        "Crea una tupla con los meses del año, pide números al usuario, si el número está entre 1 y la longitud máxima de la tupla, muestra el contenido de esa posición sino muestra un mensaje de error. El programa termina cuando el usuario introduce un cero."
      ],
      "metadata": {
        "id": "6v8NJla-4z12"
      }
    },
    {
      "cell_type": "code",
      "source": [],
      "metadata": {
        "id": "oUZNtw_d42YG"
      },
      "execution_count": null,
      "outputs": []
    }
  ]
}