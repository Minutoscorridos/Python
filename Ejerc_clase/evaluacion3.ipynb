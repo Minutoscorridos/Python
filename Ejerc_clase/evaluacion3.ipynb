{
  "nbformat": 4,
  "nbformat_minor": 0,
  "metadata": {
    "colab": {
      "provenance": [],
      "authorship_tag": "ABX9TyPNPBNE7xI5qW5sT1GGxEua",
      "include_colab_link": true
    },
    "kernelspec": {
      "name": "python3",
      "display_name": "Python 3"
    },
    "language_info": {
      "name": "python"
    }
  },
  "cells": [
    {
      "cell_type": "markdown",
      "metadata": {
        "id": "view-in-github",
        "colab_type": "text"
      },
      "source": [
        "<a href=\"https://colab.research.google.com/github/Minutoscorridos/Python/blob/main/Ejerc_clase/evaluacion3.ipynb\" target=\"_parent\"><img src=\"https://colab.research.google.com/assets/colab-badge.svg\" alt=\"Open In Colab\"/></a>"
      ]
    },
    {
      "cell_type": "markdown",
      "source": [
        "3 Práctica Operadores aritméticos\n",
        "Las siguientes simplificaciones realizalas considerando la gerarquía de los operadores.\n",
        "\n",
        "3.1 Ejercicio 1(2 puntos)\n",
        "Simplifica la expresión 5+{{(3+1)}^2}=\n",
        "5+{4**2}= 5+16=21\n",
        "\n",
        "3.2 Ejercicio 2 (2 puntos)\n",
        "\n",
        "Simplifica la expresión 12-2{{(6-3)}^2}\\div 3= 12-2{{3**2}}/ 3= 12-2{9}/3= 12-6=6\n",
        "\n",
        "3.3 Ejercicio 3 (2 puntos)\n",
        "\n",
        "Simplifica la expresión 12x+4[6-(3x+2)]=\n",
        "12x+4[6-3x-2]= 12x+4[4-3x]= 12x+16-12x=16\n",
        "\n"
      ],
      "metadata": {
        "id": "BYuGh8u2dlTf"
      }
    }
  ]
}